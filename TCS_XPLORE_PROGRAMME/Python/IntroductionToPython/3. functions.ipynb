{
 "cells": [
  {
   "cell_type": "code",
   "execution_count": 14,
   "metadata": {},
   "outputs": [],
   "source": [
    "# Return sum of two variables.\n",
    "\n",
    "def Sum(val1, val2):\n",
    "\n",
    "    # if user passes two parameters of different data types than return error.\n",
    "    if(type(val1) != type(val2)):\n",
    "        raise TypeError(\"Both passed values should be of same type\")\n",
    "\n",
    "    # return sum otherwise.\n",
    "    return(val1+val2)"
   ]
  },
  {
   "cell_type": "code",
   "execution_count": 15,
   "metadata": {},
   "outputs": [
    {
     "name": "stdout",
     "output_type": "stream",
     "text": [
      "i love u three thousand\n",
      "69\n"
     ]
    }
   ],
   "source": [
    "# print(Sum('i love u ', 3000)) # This should give error.\n",
    "print(Sum('i love u ', 'three thousand'))\n",
    "print(Sum(60, 9))"
   ]
  },
  {
   "cell_type": "code",
   "execution_count": 16,
   "metadata": {},
   "outputs": [],
   "source": [
    "def doNothing():\n",
    "    print(\"5 star ummmmm....\")"
   ]
  },
  {
   "cell_type": "code",
   "execution_count": 17,
   "metadata": {},
   "outputs": [
    {
     "name": "stdout",
     "output_type": "stream",
     "text": [
      "5 star ummmmm....\n"
     ]
    }
   ],
   "source": [
    "doNothing()"
   ]
  },
  {
   "cell_type": "code",
   "execution_count": 18,
   "metadata": {},
   "outputs": [],
   "source": [
    "## TO BE MORE SPECIFIC about input parameter and return type of any function.\n",
    "\n",
    "def printInt(val : int) -> None:\n",
    "    print(val)"
   ]
  },
  {
   "cell_type": "code",
   "execution_count": 19,
   "metadata": {},
   "outputs": [
    {
     "name": "stdout",
     "output_type": "stream",
     "text": [
      "66\n"
     ]
    }
   ],
   "source": [
    "printInt(66)"
   ]
  }
 ],
 "metadata": {
  "kernelspec": {
   "display_name": "Python 3.8.9 64-bit",
   "language": "python",
   "name": "python3"
  },
  "language_info": {
   "codemirror_mode": {
    "name": "ipython",
    "version": 3
   },
   "file_extension": ".py",
   "mimetype": "text/x-python",
   "name": "python",
   "nbconvert_exporter": "python",
   "pygments_lexer": "ipython3",
   "version": "3.8.9"
  },
  "orig_nbformat": 4,
  "vscode": {
   "interpreter": {
    "hash": "31f2aee4e71d21fbe5cf8b01ff0e069b9275f58929596ceb00d14d90e3e16cd6"
   }
  }
 },
 "nbformat": 4,
 "nbformat_minor": 2
}
